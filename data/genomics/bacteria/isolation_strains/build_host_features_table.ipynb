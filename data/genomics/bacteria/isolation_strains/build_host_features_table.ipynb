{
 "cells": [
  {
   "attachments": {},
   "cell_type": "markdown",
   "metadata": {},
   "source": [
    "# Build host features table"
   ]
  },
  {
   "cell_type": "code",
   "execution_count": 1,
   "metadata": {},
   "outputs": [],
   "source": [
    "import numpy as np\n",
    "import pandas as pd\n",
    "import matplotlib.pyplot as plt\n",
    "import seaborn as sns\n",
    "\n",
    "plt.style.use(\"ggplot\")\n",
    "np.random.seed(0)"
   ]
  },
  {
   "cell_type": "code",
   "execution_count": 29,
   "metadata": {},
   "outputs": [
    {
     "data": {
      "text/html": [
       "<div>\n",
       "<style scoped>\n",
       "    .dataframe tbody tr th:only-of-type {\n",
       "        vertical-align: middle;\n",
       "    }\n",
       "\n",
       "    .dataframe tbody tr th {\n",
       "        vertical-align: top;\n",
       "    }\n",
       "\n",
       "    .dataframe thead th {\n",
       "        text-align: right;\n",
       "    }\n",
       "</style>\n",
       "<table border=\"1\" class=\"dataframe\">\n",
       "  <thead>\n",
       "    <tr style=\"text-align: right;\">\n",
       "      <th></th>\n",
       "      <th>bacteria</th>\n",
       "      <th>Gembase</th>\n",
       "      <th>Clermont_Phylo</th>\n",
       "      <th>ST_Warwick</th>\n",
       "      <th>O-type</th>\n",
       "      <th>H-type</th>\n",
       "      <th>LPS_type</th>\n",
       "    </tr>\n",
       "  </thead>\n",
       "  <tbody>\n",
       "    <tr>\n",
       "      <th>0</th>\n",
       "      <td>MT1B1</td>\n",
       "      <td>ESCO.0722.00035</td>\n",
       "      <td>B2</td>\n",
       "      <td>998</td>\n",
       "      <td>O2</td>\n",
       "      <td>H6</td>\n",
       "      <td>R1</td>\n",
       "    </tr>\n",
       "    <tr>\n",
       "      <th>1</th>\n",
       "      <td>AN17</td>\n",
       "      <td>ESCO.0722.00043</td>\n",
       "      <td>B2</td>\n",
       "      <td>73</td>\n",
       "      <td>O6</td>\n",
       "      <td>H1</td>\n",
       "      <td>R1</td>\n",
       "    </tr>\n",
       "    <tr>\n",
       "      <th>2</th>\n",
       "      <td>LF82</td>\n",
       "      <td>ESCO.0722.00053</td>\n",
       "      <td>B2</td>\n",
       "      <td>135</td>\n",
       "      <td>O83</td>\n",
       "      <td>H1</td>\n",
       "      <td>R1</td>\n",
       "    </tr>\n",
       "    <tr>\n",
       "      <th>3</th>\n",
       "      <td>LF73</td>\n",
       "      <td>ESCO.0722.00085</td>\n",
       "      <td>B2</td>\n",
       "      <td>135</td>\n",
       "      <td>O83</td>\n",
       "      <td>H1</td>\n",
       "      <td>R1</td>\n",
       "    </tr>\n",
       "    <tr>\n",
       "      <th>4</th>\n",
       "      <td>LF7074</td>\n",
       "      <td>ESCO.0722.00129</td>\n",
       "      <td>B2</td>\n",
       "      <td>95</td>\n",
       "      <td>O45</td>\n",
       "      <td>H7</td>\n",
       "      <td>R1</td>\n",
       "    </tr>\n",
       "  </tbody>\n",
       "</table>\n",
       "</div>"
      ],
      "text/plain": [
       "  bacteria          Gembase Clermont_Phylo  ST_Warwick O-type H-type LPS_type\n",
       "0    MT1B1  ESCO.0722.00035             B2         998     O2     H6       R1\n",
       "1     AN17  ESCO.0722.00043             B2          73     O6     H1       R1\n",
       "2     LF82  ESCO.0722.00053             B2         135    O83     H1       R1\n",
       "3     LF73  ESCO.0722.00085             B2         135    O83     H1       R1\n",
       "4   LF7074  ESCO.0722.00129             B2          95    O45     H7       R1"
      ]
     },
     "execution_count": 29,
     "metadata": {},
     "output_type": "execute_result"
    }
   ],
   "source": [
    "phylogroup_cols = [\"gembase\", \"genes\", \"presence/absence\", \"allele\", \"Clermont_Phylo\", \"mash_table\"]\n",
    "\n",
    "gembase_strain_name = pd.read_csv(\"D:\\\\These\\\\20_data\\\\201_genomic_data\\\\370_and_host\\\\host\\\\panacota\\\\host_name_gembase_corresp.csv\", sep=\";\")\n",
    "phylogroup = pd.read_csv(\"D:\\\\These\\\\20_data\\\\201_genomic_data\\\\370_and_host\\\\host\\\\Phylogroup\\\\host_phylogroup.tsv\", sep=\"\\t\", header=None,\n",
    "                         names=phylogroup_cols)\n",
    "st = pd.read_csv(\"D:\\\\These\\\\20_data\\\\201_genomic_data\\\\370_and_host\\\\host\\\\ST\\\\host_ST.tsv\", sep=\"\\t\")\n",
    "otype = pd.read_csv(\"D:\\\\These\\\\20_data\\\\201_genomic_data\\\\370_and_host\\\\host\\\\O_type\\\\host_O_type.tsv\", sep=\"\\t\")\n",
    "lps = pd.read_csv(\"D:\\\\These\\\\20_data\\\\201_genomic_data\\\\370_and_host\\\\host\\\\LPS_type\\\\host_LPS_type_waaL.tsv\", sep=\"\\t\").rename({\"strain\": \"strain_lps\"}, axis=1)\n",
    "\n",
    "gembase_strain_name = gembase_strain_name.merge(phylogroup[[\"gembase\", \"Clermont_Phylo\"]], left_on=\"gembase\", right_on=\"gembase\")\n",
    "gembase_strain_name = gembase_strain_name.merge(st[[\"FILE\", \"ST\"]], left_on=\"gembase\", right_on=\"FILE\").rename({\"ST\": \"ST_Warwick\"}, axis=1).drop(\"FILE\", axis=1)\n",
    "gembase_strain_name = gembase_strain_name.merge(otype[[\"Name\", \"O-type\", \"H-type\"]], left_on=\"gembase\", right_on=\"Name\").drop(\"Name\", axis=1)\n",
    "gembase_strain_name = gembase_strain_name.merge(lps, left_on=\"strain\", right_on=\"strain_lps\").drop(\"strain_lps\", axis=1)\n",
    "\n",
    "host_features = gembase_strain_name[[\"strain\", \"gembase\", \"Clermont_Phylo\", \"ST_Warwick\", \"O-type\", \"H-type\", \"LPS_type\"]].rename({\"strain\": \"bacteria\", \"gembase\": \"Gembase\"}, axis=1)\n",
    "\n",
    "do_save = False\n",
    "if do_save:\n",
    "    save_dir = \"D:\\\\These\\\\20_data\\\\201_genomic_data\\\\370_and_host\\\\host\\\\host_features.csv\"\n",
    "    host_features.to_csv(save_dir, sep=\";\", index=False)\n",
    "\n",
    "host_features.head()"
   ]
  },
  {
   "cell_type": "code",
   "execution_count": 31,
   "metadata": {},
   "outputs": [
    {
     "data": {
      "text/plain": [
       "{'H27'}"
      ]
     },
     "execution_count": 31,
     "metadata": {},
     "output_type": "execute_result"
    }
   ],
   "source": [
    "# Missing bacterial genome (host)\n",
    "set(lps[\"strain_lps\"]) - set(host_features[\"bacteria\"])"
   ]
  }
 ],
 "metadata": {
  "kernelspec": {
   "display_name": "phd",
   "language": "python",
   "name": "python3"
  },
  "language_info": {
   "codemirror_mode": {
    "name": "ipython",
    "version": 3
   },
   "file_extension": ".py",
   "mimetype": "text/x-python",
   "name": "python",
   "nbconvert_exporter": "python",
   "pygments_lexer": "ipython3",
   "version": "3.10.6"
  },
  "orig_nbformat": 4
 },
 "nbformat": 4,
 "nbformat_minor": 2
}
