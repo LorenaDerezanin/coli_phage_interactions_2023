{
 "cells": [
  {
   "attachments": {},
   "cell_type": "markdown",
   "metadata": {},
   "source": [
    "# Build iTol color file with bacterial clades"
   ]
  },
  {
   "cell_type": "code",
   "execution_count": 2,
   "metadata": {},
   "outputs": [],
   "source": [
    "import numpy as np\n",
    "import pandas as pd\n",
    "import matplotlib.pyplot as plt\n",
    "import seaborn as sns\n",
    "\n",
    "plt.style.use(\"ggplot\")\n",
    "np.random.seed(0)"
   ]
  },
  {
   "cell_type": "code",
   "execution_count": 5,
   "metadata": {},
   "outputs": [
    {
     "ename": "AssertionError",
     "evalue": "",
     "output_type": "error",
     "traceback": [
      "\u001b[1;31m---------------------------------------------------------------------------\u001b[0m",
      "\u001b[1;31mAssertionError\u001b[0m                            Traceback (most recent call last)",
      "\u001b[1;32md:\\These\\20_data\\201_genomic_data\\370_and_host\\host\\panacota\\Tree\\itol\\build_itol_file.ipynb Cell 3\u001b[0m in \u001b[0;36m8\n\u001b[0;32m      <a href='vscode-notebook-cell:/d%3A/These/20_data/201_genomic_data/370_and_host/host/panacota/Tree/itol/build_itol_file.ipynb#W2sZmlsZQ%3D%3D?line=4'>5</a>\u001b[0m bact_features[\u001b[39m\"\u001b[39m\u001b[39mCollection\u001b[39m\u001b[39m\"\u001b[39m] \u001b[39m=\u001b[39m \u001b[39m\"\u001b[39m\u001b[39mOriginal\u001b[39m\u001b[39m\"\u001b[39m\n\u001b[0;32m      <a href='vscode-notebook-cell:/d%3A/These/20_data/201_genomic_data/370_and_host/host/panacota/Tree/itol/build_itol_file.ipynb#W2sZmlsZQ%3D%3D?line=5'>6</a>\u001b[0m host_features[\u001b[39m\"\u001b[39m\u001b[39mCollection\u001b[39m\u001b[39m\"\u001b[39m] \u001b[39m=\u001b[39m \u001b[39m\"\u001b[39m\u001b[39mHost\u001b[39m\u001b[39m\"\u001b[39m\n\u001b[1;32m----> <a href='vscode-notebook-cell:/d%3A/These/20_data/201_genomic_data/370_and_host/host/panacota/Tree/itol/build_itol_file.ipynb#W2sZmlsZQ%3D%3D?line=7'>8</a>\u001b[0m \u001b[39massert\u001b[39;00m \u001b[39mFalse\u001b[39;00m\n\u001b[0;32m     <a href='vscode-notebook-cell:/d%3A/These/20_data/201_genomic_data/370_and_host/host/panacota/Tree/itol/build_itol_file.ipynb#W2sZmlsZQ%3D%3D?line=9'>10</a>\u001b[0m res \u001b[39m=\u001b[39m pd\u001b[39m.\u001b[39mconcat([gmb_orig_name[\u001b[39m\"\u001b[39m\u001b[39mGembase\u001b[39m\u001b[39m\"\u001b[39m], bact_features[[\u001b[39m\"\u001b[39m\u001b[39mClermont_Phylo\u001b[39m\u001b[39m\"\u001b[39m, \u001b[39m\"\u001b[39m\u001b[39mCollection\u001b[39m\u001b[39m\"\u001b[39m]]], axis\u001b[39m=\u001b[39m\u001b[39m1\u001b[39m)\n\u001b[0;32m     <a href='vscode-notebook-cell:/d%3A/These/20_data/201_genomic_data/370_and_host/host/panacota/Tree/itol/build_itol_file.ipynb#W2sZmlsZQ%3D%3D?line=11'>12</a>\u001b[0m res\u001b[39m.\u001b[39mloc[host_features\u001b[39m.\u001b[39mindex, \u001b[39m\"\u001b[39m\u001b[39mClermont_Phylo\u001b[39m\u001b[39m\"\u001b[39m] \u001b[39m=\u001b[39m host_features[\u001b[39m\"\u001b[39m\u001b[39mClermont_Phylo\u001b[39m\u001b[39m\"\u001b[39m]\n",
      "\u001b[1;31mAssertionError\u001b[0m: "
     ]
    }
   ],
   "source": [
    "gmb_orig_name = pd.read_csv(\"D:\\\\These\\\\20_data\\\\201_genomic_data\\\\370_and_host\\\\host\\\\panacota\\\\LSTINFO-Liste_coli.lst\", sep=\"\\t\").set_index(\"Strain\")\n",
    "bact_features = pd.read_csv(\"D:\\\\These\\\\20_data\\\\201_genomic_data\\\\370_and_host\\\\Coli_features_with_LPS.csv\", sep=\";\").set_index(\"bacteria\").rename({\"Gembase\": \"Gembase\"}, axis=1)\n",
    "host_features = pd.read_csv(\"D:\\\\These\\\\20_data\\\\201_genomic_data\\\\370_and_host\\\\host\\\\host_features.csv\", sep=\";\").set_index(\"bacteria\")\n",
    "\n",
    "bact_features[\"Collection\"] = \"Original\"\n",
    "host_features[\"Collection\"] = \"Host\"\n",
    "\n",
    "assert False\n",
    "\n",
    "res = pd.concat([gmb_orig_name[\"Gembase\"], bact_features[[\"Clermont_Phylo\", \"Collection\"]]], axis=1)\n",
    "\n",
    "res.loc[host_features.index, \"Clermont_Phylo\"] = host_features[\"Clermont_Phylo\"]\n",
    "\n",
    "# two missing strains for which we don't have phylogroup\n",
    "print(res[\"Clermont_Phylo\"][res[\"Clermont_Phylo\"][res[\"Clermont_Phylo\"].isna()].index])\n",
    "\n",
    "res"
   ]
  },
  {
   "cell_type": "code",
   "execution_count": null,
   "metadata": {},
   "outputs": [],
   "source": [
    "interaction_matrix = pd.read_csv(\"D:\\\\These\\\\20_data\\\\212_interaction_matrices\\\\ADSORPTION_MATRIX.csv\", sep=\";\").set_index(\"bacteria\")\n",
    "\n",
    "host_interact_mat = pd.read_csv(\"\")"
   ]
  },
  {
   "cell_type": "code",
   "execution_count": 42,
   "metadata": {},
   "outputs": [],
   "source": [
    "# Generate table for clade colour \n",
    "\n",
    "# add colour according to Clade\n",
    "bact_clade_palette = [\"#6081D0\", \"#60A87F\", \"#EE8176\", \"#8AE2AF\", \"#CBEB7F\", \"#F26FB5\", \"#FEF1DE\", \"#F7BA59\", \"#EDDBC9\",\n",
    "                      \"#C8AC95\", \"#917D6C\", \"#BA947C\", \"#DDC4AA\", \"#CEB3D9\", \"#B07CC5\", \"#aaaaaa\"]\n",
    "bact_clade = np.array([\"A\", \"B1\", \"B2\", \"C\", \"D\", \"E\", \"F\", \"G\", \"Clade I\", \"Clade II\", \"Clade III\", \n",
    "                       \"Clade IV\", \"Clade V\", \"E. albertii\", \"E. fergusonii\", \"\"])\n",
    "clade_to_colour = dict(zip(bact_clade, bact_clade_palette))\n",
    "res[\"colour\"] = res[\"Clermont_Phylo\"].fillna(\"\").apply(lambda phylogroup: clade_to_colour[phylogroup])\n",
    "\n",
    "# add the range column for itol\n",
    "res[\"range\"] = \"range\"\n",
    "\n",
    "save_path = \"D:\\\\These\\\\20_data\\\\201_genomic_data\\\\370_and_host\\\\host\\\\panacota\\\\Tree\\\\itol\\\\370+host_clade_colours.txt\"\n",
    "res.reset_index().rename({\"index\": \"bacteria\"})[[\"Gembase\", \"range\", \"colour\", \"Clermont_Phylo\"]].to_csv(save_path, sep=\"\\t\", index=False)"
   ]
  },
  {
   "cell_type": "code",
   "execution_count": 45,
   "metadata": {},
   "outputs": [],
   "source": [
    "# Generate table for Host vs. Original\n",
    "\n",
    "collection_palette = [\"#aaaaaa\", \"#000000\", \"#dddddd\"]\n",
    "collection_values = [\"Original\", \"Host\", \"\"]\n",
    "coll_to_colour = dict(zip(collection_values, collection_palette))\n",
    "res[\"colour\"] = res[\"Collection\"].fillna(\"\").apply(lambda x: coll_to_colour[x])\n",
    "\n",
    "# add the range column for itol\n",
    "res[\"range\"] = \"range\"\n",
    "\n",
    "save_path = \"D:\\\\These\\\\20_data\\\\201_genomic_data\\\\370_and_host\\\\host\\\\panacota\\\\Tree\\\\itol\\\\370+host_collection_colours.txt\"\n",
    "res.reset_index().rename({\"index\": \"bacteria\"})[[\"Gembase\", \"range\", \"colour\", \"Collection\"]].to_csv(save_path, sep=\"\\t\", index=False)"
   ]
  }
 ],
 "metadata": {
  "kernelspec": {
   "display_name": "phd",
   "language": "python",
   "name": "python3"
  },
  "language_info": {
   "codemirror_mode": {
    "name": "ipython",
    "version": 3
   },
   "file_extension": ".py",
   "mimetype": "text/x-python",
   "name": "python",
   "nbconvert_exporter": "python",
   "pygments_lexer": "ipython3",
   "version": "3.10.6"
  },
  "orig_nbformat": 4
 },
 "nbformat": 4,
 "nbformat_minor": 2
}
